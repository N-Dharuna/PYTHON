{
 "cells": [
  {
   "cell_type": "markdown",
   "metadata": {},
   "source": [
    "# Epicurious - Recipes with Rating and Nutrition\n",
    "\n"
   ]
  },
  {
   "cell_type": "code",
   "execution_count": 1,
   "metadata": {
    "_cell_guid": "b1076dfc-b9ad-4769-8c92-a6c4dae69d19",
    "_uuid": "8f2839f25d086af736a60e9eeb907d3b93b6e0e5"
   },
   "outputs": [],
   "source": [
    "import numpy as np \n",
    "import pandas as pd \n",
    "import statsmodels.api as sm\n",
    "import statsmodels.formula.api as smf\n",
    "import seaborn as sns\n",
    "from sklearn.preprocessing import scale \n",
    "from sklearn.model_selection import train_test_split, GridSearchCV, cross_val_score\n",
    "from sklearn.metrics import confusion_matrix, accuracy_score, classification_report\n",
    "from sklearn.metrics import roc_auc_score,roc_curve\n",
    "import matplotlib.pyplot as plt\n",
    "from sklearn.neighbors import KNeighborsClassifier\n",
    "from sklearn.discriminant_analysis import LinearDiscriminantAnalysis\n",
    "from sklearn.linear_model import LogisticRegression\n",
    "from sklearn.svm import SVC\n",
    "from sklearn.naive_bayes import GaussianNB\n",
    "from sklearn import tree\n",
    "from sklearn.ensemble import RandomForestClassifier\n",
    "\n",
    "from warnings import filterwarnings\n",
    "filterwarnings('ignore')\n",
    "\n",
    "\n",
    "import os\n",
    "for dirname, _, filenames in os.walk('/kaggle/input'):\n",
    "    for filename in filenames:\n",
    "        print(os.path.join(dirname, filename))\n",
    "\n"
   ]
  },
  {
   "cell_type": "code",
   "execution_count": 30,
   "metadata": {
    "_cell_guid": "",
    "_uuid": ""
   },
   "outputs": [],
   "source": [
    "epicurious = pd.read_csv(\"epi_r.csv\")"
   ]
  },
  {
   "cell_type": "markdown",
   "metadata": {},
   "source": [
    "# 1.EDA (Exploratory Data Analysis)"
   ]
  },
  {
   "cell_type": "code",
   "execution_count": 31,
   "metadata": {},
   "outputs": [
    {
     "data": {
      "text/html": [
       "<div>\n",
       "<style scoped>\n",
       "    .dataframe tbody tr th:only-of-type {\n",
       "        vertical-align: middle;\n",
       "    }\n",
       "\n",
       "    .dataframe tbody tr th {\n",
       "        vertical-align: top;\n",
       "    }\n",
       "\n",
       "    .dataframe thead th {\n",
       "        text-align: right;\n",
       "    }\n",
       "</style>\n",
       "<table border=\"1\" class=\"dataframe\">\n",
       "  <thead>\n",
       "    <tr style=\"text-align: right;\">\n",
       "      <th></th>\n",
       "      <th>title</th>\n",
       "      <th>rating</th>\n",
       "      <th>calories</th>\n",
       "      <th>protein</th>\n",
       "      <th>fat</th>\n",
       "      <th>sodium</th>\n",
       "      <th>#cakeweek</th>\n",
       "      <th>#wasteless</th>\n",
       "      <th>22-minute meals</th>\n",
       "      <th>3-ingredient recipes</th>\n",
       "      <th>...</th>\n",
       "      <th>yellow squash</th>\n",
       "      <th>yogurt</th>\n",
       "      <th>yonkers</th>\n",
       "      <th>yuca</th>\n",
       "      <th>zucchini</th>\n",
       "      <th>cookbooks</th>\n",
       "      <th>leftovers</th>\n",
       "      <th>snack</th>\n",
       "      <th>snack week</th>\n",
       "      <th>turkey</th>\n",
       "    </tr>\n",
       "  </thead>\n",
       "  <tbody>\n",
       "    <tr>\n",
       "      <th>0</th>\n",
       "      <td>Lentil, Apple, and Turkey Wrap</td>\n",
       "      <td>2.500</td>\n",
       "      <td>426.0</td>\n",
       "      <td>30.0</td>\n",
       "      <td>7.0</td>\n",
       "      <td>559.0</td>\n",
       "      <td>0.0</td>\n",
       "      <td>0.0</td>\n",
       "      <td>0.0</td>\n",
       "      <td>0.0</td>\n",
       "      <td>...</td>\n",
       "      <td>0.0</td>\n",
       "      <td>0.0</td>\n",
       "      <td>0.0</td>\n",
       "      <td>0.0</td>\n",
       "      <td>0.0</td>\n",
       "      <td>0.0</td>\n",
       "      <td>0.0</td>\n",
       "      <td>0.0</td>\n",
       "      <td>0.0</td>\n",
       "      <td>1.0</td>\n",
       "    </tr>\n",
       "    <tr>\n",
       "      <th>1</th>\n",
       "      <td>Boudin Blanc Terrine with Red Onion Confit</td>\n",
       "      <td>4.375</td>\n",
       "      <td>403.0</td>\n",
       "      <td>18.0</td>\n",
       "      <td>23.0</td>\n",
       "      <td>1439.0</td>\n",
       "      <td>0.0</td>\n",
       "      <td>0.0</td>\n",
       "      <td>0.0</td>\n",
       "      <td>0.0</td>\n",
       "      <td>...</td>\n",
       "      <td>0.0</td>\n",
       "      <td>0.0</td>\n",
       "      <td>0.0</td>\n",
       "      <td>0.0</td>\n",
       "      <td>0.0</td>\n",
       "      <td>0.0</td>\n",
       "      <td>0.0</td>\n",
       "      <td>0.0</td>\n",
       "      <td>0.0</td>\n",
       "      <td>0.0</td>\n",
       "    </tr>\n",
       "  </tbody>\n",
       "</table>\n",
       "<p>2 rows × 680 columns</p>\n",
       "</div>"
      ],
      "text/plain": [
       "                                         title  rating  calories  protein  \\\n",
       "0              Lentil, Apple, and Turkey Wrap    2.500     426.0     30.0   \n",
       "1  Boudin Blanc Terrine with Red Onion Confit    4.375     403.0     18.0   \n",
       "\n",
       "    fat  sodium  #cakeweek  #wasteless  22-minute meals  3-ingredient recipes  \\\n",
       "0   7.0   559.0        0.0         0.0              0.0                   0.0   \n",
       "1  23.0  1439.0        0.0         0.0              0.0                   0.0   \n",
       "\n",
       "   ...  yellow squash  yogurt  yonkers  yuca  zucchini  cookbooks  leftovers  \\\n",
       "0  ...            0.0     0.0      0.0   0.0       0.0        0.0        0.0   \n",
       "1  ...            0.0     0.0      0.0   0.0       0.0        0.0        0.0   \n",
       "\n",
       "   snack  snack week  turkey  \n",
       "0    0.0         0.0     1.0  \n",
       "1    0.0         0.0     0.0  \n",
       "\n",
       "[2 rows x 680 columns]"
      ]
     },
     "execution_count": 31,
     "metadata": {},
     "output_type": "execute_result"
    }
   ],
   "source": [
    "epicurious.head(2)"
   ]
  },
  {
   "cell_type": "code",
   "execution_count": 34,
   "metadata": {},
   "outputs": [
    {
     "name": "stdout",
     "output_type": "stream",
     "text": [
      "<class 'pandas.core.frame.DataFrame'>\n",
      "RangeIndex: 20052 entries, 0 to 20051\n",
      "Data columns (total 680 columns):\n",
      " #    Column                    Dtype  \n",
      "---   ------                    -----  \n",
      " 0    title                     object \n",
      " 1    rating                    float64\n",
      " 2    calories                  float64\n",
      " 3    protein                   float64\n",
      " 4    fat                       float64\n",
      " 5    sodium                    float64\n",
      " 6    #cakeweek                 float64\n",
      " 7    #wasteless                float64\n",
      " 8    22-minute meals           float64\n",
      " 9    3-ingredient recipes      float64\n",
      " 10   30 days of groceries      float64\n",
      " 11   advance prep required     float64\n",
      " 12   alabama                   float64\n",
      " 13   alaska                    float64\n",
      " 14   alcoholic                 float64\n",
      " 15   almond                    float64\n",
      " 16   amaretto                  float64\n",
      " 17   anchovy                   float64\n",
      " 18   anise                     float64\n",
      " 19   anniversary               float64\n",
      " 20   anthony bourdain          float64\n",
      " 21   aperitif                  float64\n",
      " 22   appetizer                 float64\n",
      " 23   apple                     float64\n",
      " 24   apple juice               float64\n",
      " 25   apricot                   float64\n",
      " 26   arizona                   float64\n",
      " 27   artichoke                 float64\n",
      " 28   arugula                   float64\n",
      " 29   asian pear                float64\n",
      " 30   asparagus                 float64\n",
      " 31   aspen                     float64\n",
      " 32   atlanta                   float64\n",
      " 33   australia                 float64\n",
      " 34   avocado                   float64\n",
      " 35   back to school            float64\n",
      " 36   backyard bbq              float64\n",
      " 37   bacon                     float64\n",
      " 38   bake                      float64\n",
      " 39   banana                    float64\n",
      " 40   barley                    float64\n",
      " 41   basil                     float64\n",
      " 42   bass                      float64\n",
      " 43   bastille day              float64\n",
      " 44   bean                      float64\n",
      " 45   beef                      float64\n",
      " 46   beef rib                  float64\n",
      " 47   beef shank                float64\n",
      " 48   beef tenderloin           float64\n",
      " 49   beer                      float64\n",
      " 50   beet                      float64\n",
      " 51   bell pepper               float64\n",
      " 52   berry                     float64\n",
      " 53   beverly hills             float64\n",
      " 54   birthday                  float64\n",
      " 55   biscuit                   float64\n",
      " 56   bitters                   float64\n",
      " 57   blackberry                float64\n",
      " 58   blender                   float64\n",
      " 59   blue cheese               float64\n",
      " 60   blueberry                 float64\n",
      " 61   boil                      float64\n",
      " 62   bok choy                  float64\n",
      " 63   bon appétit               float64\n",
      " 64   bon app��tit              float64\n",
      " 65   boston                    float64\n",
      " 66   bourbon                   float64\n",
      " 67   braise                    float64\n",
      " 68   bran                      float64\n",
      " 69   brandy                    float64\n",
      " 70   bread                     float64\n",
      " 71   breadcrumbs               float64\n",
      " 72   breakfast                 float64\n",
      " 73   brie                      float64\n",
      " 74   brine                     float64\n",
      " 75   brisket                   float64\n",
      " 76   broccoli                  float64\n",
      " 77   broccoli rabe             float64\n",
      " 78   broil                     float64\n",
      " 79   brooklyn                  float64\n",
      " 80   brown rice                float64\n",
      " 81   brownie                   float64\n",
      " 82   brunch                    float64\n",
      " 83   brussel sprout            float64\n",
      " 84   buffalo                   float64\n",
      " 85   buffet                    float64\n",
      " 86   bulgaria                  float64\n",
      " 87   bulgur                    float64\n",
      " 88   burrito                   float64\n",
      " 89   butter                    float64\n",
      " 90   buttermilk                float64\n",
      " 91   butternut squash          float64\n",
      " 92   butterscotch/caramel      float64\n",
      " 93   cabbage                   float64\n",
      " 94   cake                      float64\n",
      " 95   california                float64\n",
      " 96   calvados                  float64\n",
      " 97   cambridge                 float64\n",
      " 98   campari                   float64\n",
      " 99   camping                   float64\n",
      " 100  canada                    float64\n",
      " 101  candy                     float64\n",
      " 102  candy thermometer         float64\n",
      " 103  cantaloupe                float64\n",
      " 104  capers                    float64\n",
      " 105  caraway                   float64\n",
      " 106  cardamom                  float64\n",
      " 107  carrot                    float64\n",
      " 108  cashew                    float64\n",
      " 109  casserole/gratin          float64\n",
      " 110  cauliflower               float64\n",
      " 111  caviar                    float64\n",
      " 112  celery                    float64\n",
      " 113  chambord                  float64\n",
      " 114  champagne                 float64\n",
      " 115  chard                     float64\n",
      " 116  chartreuse                float64\n",
      " 117  cheddar                   float64\n",
      " 118  cheese                    float64\n",
      " 119  cherry                    float64\n",
      " 120  chestnut                  float64\n",
      " 121  chicago                   float64\n",
      " 122  chicken                   float64\n",
      " 123  chickpea                  float64\n",
      " 124  chile                     float64\n",
      " 125  chile pepper              float64\n",
      " 126  chili                     float64\n",
      " 127  chill                     float64\n",
      " 128  chive                     float64\n",
      " 129  chocolate                 float64\n",
      " 130  christmas                 float64\n",
      " 131  christmas eve             float64\n",
      " 132  cilantro                  float64\n",
      " 133  cinco de mayo             float64\n",
      " 134  cinnamon                  float64\n",
      " 135  citrus                    float64\n",
      " 136  clam                      float64\n",
      " 137  clove                     float64\n",
      " 138  cobbler/crumble           float64\n",
      " 139  cocktail                  float64\n",
      " 140  cocktail party            float64\n",
      " 141  coconut                   float64\n",
      " 142  cod                       float64\n",
      " 143  coffee                    float64\n",
      " 144  coffee grinder            float64\n",
      " 145  cognac/armagnac           float64\n",
      " 146  collard greens            float64\n",
      " 147  colorado                  float64\n",
      " 148  columbus                  float64\n",
      " 149  condiment                 float64\n",
      " 150  condiment/spread          float64\n",
      " 151  connecticut               float64\n",
      " 152  cook like a diner         float64\n",
      " 153  cookbook critic           float64\n",
      " 154  cookie                    float64\n",
      " 155  cookies                   float64\n",
      " 156  coriander                 float64\n",
      " 157  corn                      float64\n",
      " 158  cornmeal                  float64\n",
      " 159  costa mesa                float64\n",
      " 160  cottage cheese            float64\n",
      " 161  couscous                  float64\n",
      " 162  crab                      float64\n",
      " 163  cranberry                 float64\n",
      " 164  cranberry sauce           float64\n",
      " 165  cream cheese              float64\n",
      " 166  créme de cacao            float64\n",
      " 167  crêpe                     float64\n",
      " 168  cr��me de cacao           float64\n",
      " 169  cuba                      float64\n",
      " 170  cucumber                  float64\n",
      " 171  cumin                     float64\n",
      " 172  cupcake                   float64\n",
      " 173  currant                   float64\n",
      " 174  curry                     float64\n",
      " 175  custard                   float64\n",
      " 176  dairy                     float64\n",
      " 177  dairy free                float64\n",
      " 178  dallas                    float64\n",
      " 179  date                      float64\n",
      " 180  deep-fry                  float64\n",
      " 181  denver                    float64\n",
      " 182  dessert                   float64\n",
      " 183  digestif                  float64\n",
      " 184  dill                      float64\n",
      " 185  dinner                    float64\n",
      " 186  dip                       float64\n",
      " 187  diwali                    float64\n",
      " 188  dominican republic        float64\n",
      " 189  dorie greenspan           float64\n",
      " 190  double boiler             float64\n",
      " 191  dried fruit               float64\n",
      " 192  drink                     float64\n",
      " 193  drinks                    float64\n",
      " 194  duck                      float64\n",
      " 195  easter                    float64\n",
      " 196  eau de vie                float64\n",
      " 197  edible gift               float64\n",
      " 198  egg                       float64\n",
      " 199  egg nog                   float64\n",
      " 200  eggplant                  float64\n",
      " 201  egypt                     float64\n",
      " 202  emeril lagasse            float64\n",
      " 203  endive                    float64\n",
      " 204  engagement party          float64\n",
      " 205  england                   float64\n",
      " 206  entertaining              float64\n",
      " 207  epi + ushg                float64\n",
      " 208  epi loves the microwave   float64\n",
      " 209  escarole                  float64\n",
      " 210  fall                      float64\n",
      " 211  family reunion            float64\n",
      " 212  fat free                  float64\n",
      " 213  father's day              float64\n",
      " 214  fennel                    float64\n",
      " 215  feta                      float64\n",
      " 216  fig                       float64\n",
      " 217  fish                      float64\n",
      " 218  flaming hot summer        float64\n",
      " 219  flat bread                float64\n",
      " 220  florida                   float64\n",
      " 221  fontina                   float64\n",
      " 222  food processor            float64\n",
      " 223  fortified wine            float64\n",
      " 224  fourth of july            float64\n",
      " 225  france                    float64\n",
      " 226  frangelico                float64\n",
      " 227  frankenrecipe             float64\n",
      " 228  freeze/chill              float64\n",
      " 229  freezer food              float64\n",
      " 230  friendsgiving             float64\n",
      " 231  frittata                  float64\n",
      " 232  fritter                   float64\n",
      " 233  frozen dessert            float64\n",
      " 234  fruit                     float64\n",
      " 235  fruit juice               float64\n",
      " 236  fry                       float64\n",
      " 237  game                      float64\n",
      " 238  garlic                    float64\n",
      " 239  georgia                   float64\n",
      " 240  germany                   float64\n",
      " 241  gin                       float64\n",
      " 242  ginger                    float64\n",
      " 243  goat cheese               float64\n",
      " 244  goose                     float64\n",
      " 245  gouda                     float64\n",
      " 246  gourmet                   float64\n",
      " 247  graduation                float64\n",
      " 248  grains                    float64\n",
      " 249  grand marnier             float64\n",
      " 250  granola                   float64\n",
      " 251  grape                     float64\n",
      " 252  grapefruit                float64\n",
      " 253  grappa                    float64\n",
      " 254  green bean                float64\n",
      " 255  green onion/scallion      float64\n",
      " 256  grill                     float64\n",
      " 257  grill/barbecue            float64\n",
      " 258  ground beef               float64\n",
      " 259  ground lamb               float64\n",
      " 260  guam                      float64\n",
      " 261  guava                     float64\n",
      " 262  haiti                     float64\n",
      " 263  halibut                   float64\n",
      " 264  halloween                 float64\n",
      " 265  ham                       float64\n",
      " 266  hamburger                 float64\n",
      " 267  hanukkah                  float64\n",
      " 268  harpercollins             float64\n",
      " 269  hawaii                    float64\n",
      " 270  hazelnut                  float64\n",
      " 271  healdsburg                float64\n",
      " 272  healthy                   float64\n",
      " 273  herb                      float64\n",
      " 274  high fiber                float64\n",
      " 275  hollywood                 float64\n",
      " 276  hominy/cornmeal/masa      float64\n",
      " 277  honey                     float64\n",
      " 278  honeydew                  float64\n",
      " 279  hors d'oeuvre             float64\n",
      " 280  horseradish               float64\n",
      " 281  hot drink                 float64\n",
      " 282  hot pepper                float64\n",
      " 283  house & garden            float64\n",
      " 284  house cocktail            float64\n",
      " 285  houston                   float64\n",
      " 286  hummus                    float64\n",
      " 287  ice cream                 float64\n",
      " 288  ice cream machine         float64\n",
      " 289  iced coffee               float64\n",
      " 290  iced tea                  float64\n",
      " 291  idaho                     float64\n",
      " 292  illinois                  float64\n",
      " 293  indiana                   float64\n",
      " 294  iowa                      float64\n",
      " 295  ireland                   float64\n",
      " 296  israel                    float64\n",
      " 297  italy                     float64\n",
      " 298  jalapeño                  float64\n",
      " 299  jam or jelly              float64\n",
      " 300  jamaica                   float64\n",
      " 301  japan                     float64\n",
      " 302  jerusalem artichoke       float64\n",
      " 303  juicer                    float64\n",
      " 304  jícama                    float64\n",
      " 305  kahlúa                    float64\n",
      " 306  kale                      float64\n",
      " 307  kansas                    float64\n",
      " 308  kansas city               float64\n",
      " 309  kentucky                  float64\n",
      " 310  kentucky derby            float64\n",
      " 311  kid-friendly              float64\n",
      " 312  kidney friendly           float64\n",
      " 313  kirsch                    float64\n",
      " 314  kitchen olympics          float64\n",
      " 315  kiwi                      float64\n",
      " 316  kosher                    float64\n",
      " 317  kosher for passover       float64\n",
      " 318  kumquat                   float64\n",
      " 319  kwanzaa                   float64\n",
      " 320  labor day                 float64\n",
      " 321  lamb                      float64\n",
      " 322  lamb chop                 float64\n",
      " 323  lamb shank                float64\n",
      " 324  lancaster                 float64\n",
      " 325  las vegas                 float64\n",
      " 326  lasagna                   float64\n",
      " 327  leafy green               float64\n",
      " 328  leek                      float64\n",
      " 329  legume                    float64\n",
      " 330  lemon                     float64\n",
      " 331  lemon juice               float64\n",
      " 332  lemongrass                float64\n",
      " 333  lentil                    float64\n",
      " 334  lettuce                   float64\n",
      " 335  lima bean                 float64\n",
      " 336  lime                      float64\n",
      " 337  lime juice                float64\n",
      " 338  lingonberry               float64\n",
      " 339  liqueur                   float64\n",
      " 340  lobster                   float64\n",
      " 341  london                    float64\n",
      " 342  long beach                float64\n",
      " 343  los angeles               float64\n",
      " 344  louisiana                 float64\n",
      " 345  louisville                float64\n",
      " 346  low cal                   float64\n",
      " 347  low carb                  float64\n",
      " 348  low cholesterol           float64\n",
      " 349  low fat                   float64\n",
      " 350  low sodium                float64\n",
      " 351  low sugar                 float64\n",
      " 352  low/no sugar              float64\n",
      " 353  lunar new year            float64\n",
      " 354  lunch                     float64\n",
      " 355  lychee                    float64\n",
      " 356  macadamia nut             float64\n",
      " 357  macaroni and cheese       float64\n",
      " 358  maine                     float64\n",
      " 359  mandoline                 float64\n",
      " 360  mango                     float64\n",
      " 361  maple syrup               float64\n",
      " 362  mardi gras                float64\n",
      " 363  margarita                 float64\n",
      " 364  marinade                  float64\n",
      " 365  marinate                  float64\n",
      " 366  marsala                   float64\n",
      " 367  marscarpone               float64\n",
      " 368  marshmallow               float64\n",
      " 369  martini                   float64\n",
      " 370  maryland                  float64\n",
      " 371  massachusetts             float64\n",
      " 372  mayonnaise                float64\n",
      " 373  meat                      float64\n",
      " 374  meatball                  float64\n",
      " 375  meatloaf                  float64\n",
      " 376  melon                     float64\n",
      " 377  mexico                    float64\n",
      " 378  mezcal                    float64\n",
      " 379  miami                     float64\n",
      " 380  michigan                  float64\n",
      " 381  microwave                 float64\n",
      " 382  midori                    float64\n",
      " 383  milk/cream                float64\n",
      " 384  minneapolis               float64\n",
      " 385  minnesota                 float64\n",
      " 386  mint                      float64\n",
      " 387  mississippi               float64\n",
      " 388  missouri                  float64\n",
      " 389  mixer                     float64\n",
      " 390  molasses                  float64\n",
      " 391  monterey jack             float64\n",
      " 392  mortar and pestle         float64\n",
      " 393  mother's day              float64\n",
      " 394  mozzarella                float64\n",
      " 395  muffin                    float64\n",
      " 396  mushroom                  float64\n",
      " 397  mussel                    float64\n",
      " 398  mustard                   float64\n",
      " 399  mustard greens            float64\n",
      " 400  nancy silverton           float64\n",
      " 401  nebraska                  float64\n",
      " 402  nectarine                 float64\n",
      " 403  new hampshire             float64\n",
      " 404  new jersey                float64\n",
      " 405  new mexico                float64\n",
      " 406  new orleans               float64\n",
      " 407  new year's day            float64\n",
      " 408  new year's eve            float64\n",
      " 409  new york                  float64\n",
      " 410  no meat, no problem       float64\n",
      " 411  no sugar added            float64\n",
      " 412  no-cook                   float64\n",
      " 413  non-alcoholic             float64\n",
      " 414  noodle                    float64\n",
      " 415  north carolina            float64\n",
      " 416  nut                       float64\n",
      " 417  nutmeg                    float64\n",
      " 418  oat                       float64\n",
      " 419  oatmeal                   float64\n",
      " 420  octopus                   float64\n",
      " 421  ohio                      float64\n",
      " 422  oklahoma                  float64\n",
      " 423  okra                      float64\n",
      " 424  oktoberfest               float64\n",
      " 425  olive                     float64\n",
      " 426  omelet                    float64\n",
      " 427  one-pot meal              float64\n",
      " 428  onion                     float64\n",
      " 429  orange                    float64\n",
      " 430  orange juice              float64\n",
      " 431  oregano                   float64\n",
      " 432  oregon                    float64\n",
      " 433  organic                   float64\n",
      " 434  orzo                      float64\n",
      " 435  oscars                    float64\n",
      " 436  oyster                    float64\n",
      " 437  pacific palisades         float64\n",
      " 438  paleo                     float64\n",
      " 439  pan-fry                   float64\n",
      " 440  pancake                   float64\n",
      " 441  papaya                    float64\n",
      " 442  paprika                   float64\n",
      " 443  parade                    float64\n",
      " 444  paris                     float64\n",
      " 445  parmesan                  float64\n",
      " 446  parsley                   float64\n",
      " 447  parsnip                   float64\n",
      " 448  party                     float64\n",
      " 449  pasadena                  float64\n",
      " 450  passion fruit             float64\n",
      " 451  passover                  float64\n",
      " 452  pasta                     float64\n",
      " 453  pasta maker               float64\n",
      " 454  pastry                    float64\n",
      " 455  pea                       float64\n",
      " 456  peach                     float64\n",
      " 457  peanut                    float64\n",
      " 458  peanut butter             float64\n",
      " 459  peanut free               float64\n",
      " 460  pear                      float64\n",
      " 461  pecan                     float64\n",
      " 462  pennsylvania              float64\n",
      " 463  pepper                    float64\n",
      " 464  pernod                    float64\n",
      " 465  persian new year          float64\n",
      " 466  persimmon                 float64\n",
      " 467  peru                      float64\n",
      " 468  pescatarian               float64\n",
      " 469  philippines               float64\n",
      " 470  phyllo/puff pastry dough  float64\n",
      " 471  pickles                   float64\n",
      " 472  picnic                    float64\n",
      " 473  pie                       float64\n",
      " 474  pine nut                  float64\n",
      " 475  pineapple                 float64\n",
      " 476  pistachio                 float64\n",
      " 477  pittsburgh                float64\n",
      " 478  pizza                     float64\n",
      " 479  plantain                  float64\n",
      " 480  plum                      float64\n",
      " 481  poach                     float64\n",
      " 482  poblano                   float64\n",
      " 483  poker/game night          float64\n",
      " 484  pomegranate               float64\n",
      " 485  pomegranate juice         float64\n",
      " 486  poppy                     float64\n",
      " 487  pork                      float64\n",
      " 488  pork chop                 float64\n",
      " 489  pork rib                  float64\n",
      " 490  pork tenderloin           float64\n",
      " 491  port                      float64\n",
      " 492  portland                  float64\n",
      " 493  pot pie                   float64\n",
      " 494  potato                    float64\n",
      " 495  potato salad              float64\n",
      " 496  potluck                   float64\n",
      " 497  poultry                   float64\n",
      " 498  poultry sausage           float64\n",
      " 499  pressure cooker           float64\n",
      " 500  prosciutto                float64\n",
      " 501  providence                float64\n",
      " 502  prune                     float64\n",
      " 503  pumpkin                   float64\n",
      " 504  punch                     float64\n",
      " 505  purim                     float64\n",
      " 506  quail                     float64\n",
      " 507  quiche                    float64\n",
      " 508  quick & easy              float64\n",
      " 509  quick and healthy         float64\n",
      " 510  quince                    float64\n",
      " 511  quinoa                    float64\n",
      " 512  rabbit                    float64\n",
      " 513  rack of lamb              float64\n",
      " 514  radicchio                 float64\n",
      " 515  radish                    float64\n",
      " 516  raisin                    float64\n",
      " 517  ramadan                   float64\n",
      " 518  ramekin                   float64\n",
      " 519  raspberry                 float64\n",
      " 520  raw                       float64\n",
      " 521  red wine                  float64\n",
      " 522  rhode island              float64\n",
      " 523  rhubarb                   float64\n",
      " 524  rice                      float64\n",
      " 525  ricotta                   float64\n",
      " 526  roast                     float64\n",
      " 527  root vegetable            float64\n",
      " 528  rosemary                  float64\n",
      " 529  rosh hashanah/yom kippur  float64\n",
      " 530  rosé                      float64\n",
      " 531  rub                       float64\n",
      " 532  rum                       float64\n",
      " 533  rutabaga                  float64\n",
      " 534  rye                       float64\n",
      " 535  saffron                   float64\n",
      " 536  sage                      float64\n",
      " 537  sake                      float64\n",
      " 538  salad                     float64\n",
      " 539  salad dressing            float64\n",
      " 540  salmon                    float64\n",
      " 541  salsa                     float64\n",
      " 542  san francisco             float64\n",
      " 543  sandwich                  float64\n",
      " 544  sandwich theory           float64\n",
      " 545  sangria                   float64\n",
      " 546  santa monica              float64\n",
      " 547  sardine                   float64\n",
      " 548  sauce                     float64\n",
      " 549  sausage                   float64\n",
      " 550  sauté                     float64\n",
      " 551  scallop                   float64\n",
      " 552  scotch                    float64\n",
      " 553  seafood                   float64\n",
      " 554  seattle                   float64\n",
      " 555  seed                      float64\n",
      " 556  self                      float64\n",
      " 557  semolina                  float64\n",
      " 558  sesame                    float64\n",
      " 559  sesame oil                float64\n",
      " 560  shallot                   float64\n",
      " 561  shavuot                   float64\n",
      " 562  shellfish                 float64\n",
      " 563  sherry                    float64\n",
      " 564  shower                    float64\n",
      " 565  shrimp                    float64\n",
      " 566  side                      float64\n",
      " 567  simmer                    float64\n",
      " 568  skewer                    float64\n",
      " 569  slow cooker               float64\n",
      " 570  smoker                    float64\n",
      " 571  smoothie                  float64\n",
      " 572  snapper                   float64\n",
      " 573  sorbet                    float64\n",
      " 574  soufflé/meringue          float64\n",
      " 575  soup/stew                 float64\n",
      " 576  sour cream                float64\n",
      " 577  sourdough                 float64\n",
      " 578  south carolina            float64\n",
      " 579  soy                       float64\n",
      " 580  soy free                  float64\n",
      " 581  soy sauce                 float64\n",
      " 582  spain                     float64\n",
      " 583  sparkling wine            float64\n",
      " 584  spice                     float64\n",
      " 585  spinach                   float64\n",
      " 586  spirit                    float64\n",
      " 587  spring                    float64\n",
      " 588  spritzer                  float64\n",
      " 589  squash                    float64\n",
      " 590  squid                     float64\n",
      " 591  st. louis                 float64\n",
      " 592  st. patrick's day         float64\n",
      " 593  steak                     float64\n",
      " 594  steam                     float64\n",
      " 595  stew                      float64\n",
      " 596  stir-fry                  float64\n",
      " 597  stock                     float64\n",
      " 598  strawberry                float64\n",
      " 599  stuffing/dressing         float64\n",
      " 600  sugar conscious           float64\n",
      " 601  sugar snap pea            float64\n",
      " 602  sukkot                    float64\n",
      " 603  summer                    float64\n",
      " 604  super bowl                float64\n",
      " 605  suzanne goin              float64\n",
      " 606  sweet potato/yam          float64\n",
      " 607  swiss cheese              float64\n",
      " 608  switzerland               float64\n",
      " 609  swordfish                 float64\n",
      " 610  taco                      float64\n",
      " 611  tailgating                float64\n",
      " 612  tamarind                  float64\n",
      " 613  tangerine                 float64\n",
      " 614  tapioca                   float64\n",
      " 615  tarragon                  float64\n",
      " 616  tart                      float64\n",
      " 617  tea                       float64\n",
      " 618  tennessee                 float64\n",
      " 619  tequila                   float64\n",
      " 620  tested & improved         float64\n",
      " 621  texas                     float64\n",
      " 622  thanksgiving              float64\n",
      " 623  thyme                     float64\n",
      " 624  tilapia                   float64\n",
      " 625  tofu                      float64\n",
      " 626  tomatillo                 float64\n",
      " 627  tomato                    float64\n",
      " 628  tortillas                 float64\n",
      " 629  tree nut                  float64\n",
      " 630  tree nut free             float64\n",
      " 631  triple sec                float64\n",
      " 632  tropical fruit            float64\n",
      " 633  trout                     float64\n",
      " 634  tuna                      float64\n",
      " 635  turnip                    float64\n",
      " 636  utah                      float64\n",
      " 637  valentine's day           float64\n",
      " 638  vanilla                   float64\n",
      " 639  veal                      float64\n",
      " 640  vegan                     float64\n",
      " 641  vegetable                 float64\n",
      " 642  vegetarian                float64\n",
      " 643  venison                   float64\n",
      " 644  vermont                   float64\n",
      " 645  vermouth                  float64\n",
      " 646  vinegar                   float64\n",
      " 647  virginia                  float64\n",
      " 648  vodka                     float64\n",
      " 649  waffle                    float64\n",
      " 650  walnut                    float64\n",
      " 651  wasabi                    float64\n",
      " 652  washington                float64\n",
      " 653  washington, d.c.          float64\n",
      " 654  watercress                float64\n",
      " 655  watermelon                float64\n",
      " 656  wedding                   float64\n",
      " 657  weelicious                float64\n",
      " 658  west virginia             float64\n",
      " 659  westwood                  float64\n",
      " 660  wheat/gluten-free         float64\n",
      " 661  whiskey                   float64\n",
      " 662  white wine                float64\n",
      " 663  whole wheat               float64\n",
      " 664  wild rice                 float64\n",
      " 665  windsor                   float64\n",
      " 666  wine                      float64\n",
      " 667  winter                    float64\n",
      " 668  wisconsin                 float64\n",
      " 669  wok                       float64\n",
      " 670  yellow squash             float64\n",
      " 671  yogurt                    float64\n",
      " 672  yonkers                   float64\n",
      " 673  yuca                      float64\n",
      " 674  zucchini                  float64\n",
      " 675  cookbooks                 float64\n",
      " 676  leftovers                 float64\n",
      " 677  snack                     float64\n",
      " 678  snack week                float64\n",
      " 679  turkey                    float64\n",
      "dtypes: float64(679), object(1)\n",
      "memory usage: 104.0+ MB\n"
     ]
    }
   ],
   "source": [
    "epicurious.info(5)"
   ]
  },
  {
   "cell_type": "code",
   "execution_count": 35,
   "metadata": {},
   "outputs": [
    {
     "data": {
      "text/html": [
       "<div>\n",
       "<style scoped>\n",
       "    .dataframe tbody tr th:only-of-type {\n",
       "        vertical-align: middle;\n",
       "    }\n",
       "\n",
       "    .dataframe tbody tr th {\n",
       "        vertical-align: top;\n",
       "    }\n",
       "\n",
       "    .dataframe thead th {\n",
       "        text-align: right;\n",
       "    }\n",
       "</style>\n",
       "<table border=\"1\" class=\"dataframe\">\n",
       "  <thead>\n",
       "    <tr style=\"text-align: right;\">\n",
       "      <th></th>\n",
       "      <th>count</th>\n",
       "      <th>mean</th>\n",
       "      <th>std</th>\n",
       "      <th>min</th>\n",
       "      <th>25%</th>\n",
       "      <th>50%</th>\n",
       "      <th>75%</th>\n",
       "      <th>max</th>\n",
       "    </tr>\n",
       "  </thead>\n",
       "  <tbody>\n",
       "    <tr>\n",
       "      <th>rating</th>\n",
       "      <td>20052.0</td>\n",
       "      <td>3.714467</td>\n",
       "      <td>1.340829</td>\n",
       "      <td>0.0</td>\n",
       "      <td>3.75</td>\n",
       "      <td>4.375</td>\n",
       "      <td>4.375</td>\n",
       "      <td>5.0</td>\n",
       "    </tr>\n",
       "    <tr>\n",
       "      <th>calories</th>\n",
       "      <td>15935.0</td>\n",
       "      <td>6322.958017</td>\n",
       "      <td>359046.041242</td>\n",
       "      <td>0.0</td>\n",
       "      <td>198.00</td>\n",
       "      <td>331.000</td>\n",
       "      <td>586.000</td>\n",
       "      <td>30111218.0</td>\n",
       "    </tr>\n",
       "    <tr>\n",
       "      <th>protein</th>\n",
       "      <td>15890.0</td>\n",
       "      <td>100.160793</td>\n",
       "      <td>3840.318527</td>\n",
       "      <td>0.0</td>\n",
       "      <td>3.00</td>\n",
       "      <td>8.000</td>\n",
       "      <td>27.000</td>\n",
       "      <td>236489.0</td>\n",
       "    </tr>\n",
       "    <tr>\n",
       "      <th>fat</th>\n",
       "      <td>15869.0</td>\n",
       "      <td>346.877497</td>\n",
       "      <td>20456.106859</td>\n",
       "      <td>0.0</td>\n",
       "      <td>7.00</td>\n",
       "      <td>17.000</td>\n",
       "      <td>33.000</td>\n",
       "      <td>1722763.0</td>\n",
       "    </tr>\n",
       "    <tr>\n",
       "      <th>sodium</th>\n",
       "      <td>15933.0</td>\n",
       "      <td>6225.974895</td>\n",
       "      <td>333318.188891</td>\n",
       "      <td>0.0</td>\n",
       "      <td>80.00</td>\n",
       "      <td>294.000</td>\n",
       "      <td>711.000</td>\n",
       "      <td>27675110.0</td>\n",
       "    </tr>\n",
       "    <tr>\n",
       "      <th>...</th>\n",
       "      <td>...</td>\n",
       "      <td>...</td>\n",
       "      <td>...</td>\n",
       "      <td>...</td>\n",
       "      <td>...</td>\n",
       "      <td>...</td>\n",
       "      <td>...</td>\n",
       "      <td>...</td>\n",
       "    </tr>\n",
       "    <tr>\n",
       "      <th>cookbooks</th>\n",
       "      <td>20052.0</td>\n",
       "      <td>0.000150</td>\n",
       "      <td>0.012231</td>\n",
       "      <td>0.0</td>\n",
       "      <td>0.00</td>\n",
       "      <td>0.000</td>\n",
       "      <td>0.000</td>\n",
       "      <td>1.0</td>\n",
       "    </tr>\n",
       "    <tr>\n",
       "      <th>leftovers</th>\n",
       "      <td>20052.0</td>\n",
       "      <td>0.000349</td>\n",
       "      <td>0.018681</td>\n",
       "      <td>0.0</td>\n",
       "      <td>0.00</td>\n",
       "      <td>0.000</td>\n",
       "      <td>0.000</td>\n",
       "      <td>1.0</td>\n",
       "    </tr>\n",
       "    <tr>\n",
       "      <th>snack</th>\n",
       "      <td>20052.0</td>\n",
       "      <td>0.001396</td>\n",
       "      <td>0.037343</td>\n",
       "      <td>0.0</td>\n",
       "      <td>0.00</td>\n",
       "      <td>0.000</td>\n",
       "      <td>0.000</td>\n",
       "      <td>1.0</td>\n",
       "    </tr>\n",
       "    <tr>\n",
       "      <th>snack week</th>\n",
       "      <td>20052.0</td>\n",
       "      <td>0.000948</td>\n",
       "      <td>0.030768</td>\n",
       "      <td>0.0</td>\n",
       "      <td>0.00</td>\n",
       "      <td>0.000</td>\n",
       "      <td>0.000</td>\n",
       "      <td>1.0</td>\n",
       "    </tr>\n",
       "    <tr>\n",
       "      <th>turkey</th>\n",
       "      <td>20052.0</td>\n",
       "      <td>0.022741</td>\n",
       "      <td>0.149080</td>\n",
       "      <td>0.0</td>\n",
       "      <td>0.00</td>\n",
       "      <td>0.000</td>\n",
       "      <td>0.000</td>\n",
       "      <td>1.0</td>\n",
       "    </tr>\n",
       "  </tbody>\n",
       "</table>\n",
       "<p>679 rows × 8 columns</p>\n",
       "</div>"
      ],
      "text/plain": [
       "              count         mean            std  min     25%      50%  \\\n",
       "rating      20052.0     3.714467       1.340829  0.0    3.75    4.375   \n",
       "calories    15935.0  6322.958017  359046.041242  0.0  198.00  331.000   \n",
       "protein     15890.0   100.160793    3840.318527  0.0    3.00    8.000   \n",
       "fat         15869.0   346.877497   20456.106859  0.0    7.00   17.000   \n",
       "sodium      15933.0  6225.974895  333318.188891  0.0   80.00  294.000   \n",
       "...             ...          ...            ...  ...     ...      ...   \n",
       "cookbooks   20052.0     0.000150       0.012231  0.0    0.00    0.000   \n",
       "leftovers   20052.0     0.000349       0.018681  0.0    0.00    0.000   \n",
       "snack       20052.0     0.001396       0.037343  0.0    0.00    0.000   \n",
       "snack week  20052.0     0.000948       0.030768  0.0    0.00    0.000   \n",
       "turkey      20052.0     0.022741       0.149080  0.0    0.00    0.000   \n",
       "\n",
       "                75%         max  \n",
       "rating        4.375         5.0  \n",
       "calories    586.000  30111218.0  \n",
       "protein      27.000    236489.0  \n",
       "fat          33.000   1722763.0  \n",
       "sodium      711.000  27675110.0  \n",
       "...             ...         ...  \n",
       "cookbooks     0.000         1.0  \n",
       "leftovers     0.000         1.0  \n",
       "snack         0.000         1.0  \n",
       "snack week    0.000         1.0  \n",
       "turkey        0.000         1.0  \n",
       "\n",
       "[679 rows x 8 columns]"
      ]
     },
     "execution_count": 35,
     "metadata": {},
     "output_type": "execute_result"
    }
   ],
   "source": [
    "epicurious.describe().T"
   ]
  },
  {
   "cell_type": "markdown",
   "metadata": {},
   "source": [
    "\n",
    "**Cleaning Data**\n",
    "\n",
    "Let's limit the dataframe to have only recipes which are less than 10,000 calories. We also will clean the data by dropping rows which have null values.\n"
   ]
  },
  {
   "cell_type": "code",
   "execution_count": 71,
   "metadata": {},
   "outputs": [],
   "source": [
    "epicurious = epicurious[epicurious['calories'] < 10000].dropna()"
   ]
  },
  {
   "cell_type": "code",
   "execution_count": 72,
   "metadata": {},
   "outputs": [
    {
     "data": {
      "image/png": "[encoded data removed]",
      "text/plain": [
       "<Figure size 500x500 with 1 Axes>"
      ]
     },
     "metadata": {},
     "output_type": "display_data"
    }
   ],
   "source": [
    "sns.set(style=\"darkgrid\")\n",
    "g = sns.regplot(x=\"calories\", y=\"dessert\", data=epicurious, fit_reg=False)\n",
    "g.figure.set_size_inches(5, 5)\n",
    "\n"
   ]
  },
  {
   "cell_type": "code",
   "execution_count": 38,
   "metadata": {},
   "outputs": [],
   "source": [
    "epicurious = epicurious[:][:500]      "
   ]
  },
  {
   "cell_type": "code",
   "execution_count": 39,
   "metadata": {},
   "outputs": [],
   "source": [
    "\n",
    "epicurious.drop(\"title\", inplace = True, axis=1)\n",
    "\n",
    "y = epicurious.dessert.values\n",
    "X = epicurious.drop([\"dessert\"], axis = 1)"
   ]
  },
  {
   "cell_type": "code",
   "execution_count": 40,
   "metadata": {},
   "outputs": [
    {
     "data": {
      "text/plain": [
       "0"
      ]
     },
     "execution_count": 40,
     "metadata": {},
     "output_type": "execute_result"
    }
   ],
   "source": [
    "epicurious['dessert'].isnull().sum()"
   ]
  },
  {
   "cell_type": "markdown",
   "metadata": {},
   "source": [
    "# 2.Logistic Regression\n",
    "## 2.1.Set Model"
   ]
  },
  {
   "cell_type": "code",
   "execution_count": 41,
   "metadata": {},
   "outputs": [
    {
     "data": {
      "text/html": [
       "<style>#sk-container-id-1 {color: black;}#sk-container-id-1 pre{padding: 0;}#sk-container-id-1 div.sk-toggleable {background-color: white;}#sk-container-id-1 label.sk-toggleable__label {cursor: pointer;display: block;width: 100%;margin-bottom: 0;padding: 0.3em;box-sizing: border-box;text-align: center;}#sk-container-id-1 label.sk-toggleable__label-arrow:before {content: \"▸\";float: left;margin-right: 0.25em;color: #696969;}#sk-container-id-1 label.sk-toggleable__label-arrow:hover:before {color: black;}#sk-container-id-1 div.sk-estimator:hover label.sk-toggleable__label-arrow:before {color: black;}#sk-container-id-1 div.sk-toggleable__content {max-height: 0;max-width: 0;overflow: hidden;text-align: left;background-color: #f0f8ff;}#sk-container-id-1 div.sk-toggleable__content pre {margin: 0.2em;color: black;border-radius: 0.25em;background-color: #f0f8ff;}#sk-container-id-1 input.sk-toggleable__control:checked~div.sk-toggleable__content {max-height: 200px;max-width: 100%;overflow: auto;}#sk-container-id-1 input.sk-toggleable__control:checked~label.sk-toggleable__label-arrow:before {content: \"▾\";}#sk-container-id-1 div.sk-estimator input.sk-toggleable__control:checked~label.sk-toggleable__label {background-color: #d4ebff;}#sk-container-id-1 div.sk-label input.sk-toggleable__control:checked~label.sk-toggleable__label {background-color: #d4ebff;}#sk-container-id-1 input.sk-hidden--visually {border: 0;clip: rect(1px 1px 1px 1px);clip: rect(1px, 1px, 1px, 1px);height: 1px;margin: -1px;overflow: hidden;padding: 0;position: absolute;width: 1px;}#sk-container-id-1 div.sk-estimator {font-family: monospace;background-color: #f0f8ff;border: 1px dotted black;border-radius: 0.25em;box-sizing: border-box;margin-bottom: 0.5em;}#sk-container-id-1 div.sk-estimator:hover {background-color: #d4ebff;}#sk-container-id-1 div.sk-parallel-item::after {content: \"\";width: 100%;border-bottom: 1px solid gray;flex-grow: 1;}#sk-container-id-1 div.sk-label:hover label.sk-toggleable__label {background-color: #d4ebff;}#sk-container-id-1 div.sk-serial::before {content: \"\";position: absolute;border-left: 1px solid gray;box-sizing: border-box;top: 0;bottom: 0;left: 50%;z-index: 0;}#sk-container-id-1 div.sk-serial {display: flex;flex-direction: column;align-items: center;background-color: white;padding-right: 0.2em;padding-left: 0.2em;position: relative;}#sk-container-id-1 div.sk-item {position: relative;z-index: 1;}#sk-container-id-1 div.sk-parallel {display: flex;align-items: stretch;justify-content: center;background-color: white;position: relative;}#sk-container-id-1 div.sk-item::before, #sk-container-id-1 div.sk-parallel-item::before {content: \"\";position: absolute;border-left: 1px solid gray;box-sizing: border-box;top: 0;bottom: 0;left: 50%;z-index: -1;}#sk-container-id-1 div.sk-parallel-item {display: flex;flex-direction: column;z-index: 1;position: relative;background-color: white;}#sk-container-id-1 div.sk-parallel-item:first-child::after {align-self: flex-end;width: 50%;}#sk-container-id-1 div.sk-parallel-item:last-child::after {align-self: flex-start;width: 50%;}#sk-container-id-1 div.sk-parallel-item:only-child::after {width: 0;}#sk-container-id-1 div.sk-dashed-wrapped {border: 1px dashed gray;margin: 0 0.4em 0.5em 0.4em;box-sizing: border-box;padding-bottom: 0.4em;background-color: white;}#sk-container-id-1 div.sk-label label {font-family: monospace;font-weight: bold;display: inline-block;line-height: 1.2em;}#sk-container-id-1 div.sk-label-container {text-align: center;}#sk-container-id-1 div.sk-container {/* jupyter's `normalize.less` sets `[hidden] { display: none; }` but bootstrap.min.css set `[hidden] { display: none !important; }` so we also need the `!important` here to be able to override the default hidden behavior on the sphinx rendered scikit-learn.org. See: https://github.com/scikit-learn/scikit-learn/issues/21755 */display: inline-block !important;position: relative;}#sk-container-id-1 div.sk-text-repr-fallback {display: none;}</style><div id=\"sk-container-id-1\" class=\"sk-top-container\"><div class=\"sk-text-repr-fallback\"><pre>LogisticRegression(solver=&#x27;liblinear&#x27;)</pre><b>In a Jupyter environment, please rerun this cell to show the HTML representation or trust the notebook. <br />On GitHub, the HTML representation is unable to render, please try loading this page with nbviewer.org.</b></div><div class=\"sk-container\" hidden><div class=\"sk-item\"><div class=\"sk-estimator sk-toggleable\"><input class=\"sk-toggleable__control sk-hidden--visually\" id=\"sk-estimator-id-1\" type=\"checkbox\" checked><label for=\"sk-estimator-id-1\" class=\"sk-toggleable__label sk-toggleable__label-arrow\">LogisticRegression</label><div class=\"sk-toggleable__content\"><pre>LogisticRegression(solver=&#x27;liblinear&#x27;)</pre></div></div></div></div></div>"
      ],
      "text/plain": [
       "LogisticRegression(solver='liblinear')"
      ]
     },
     "execution_count": 41,
     "metadata": {},
     "output_type": "execute_result"
    }
   ],
   "source": [
    "loj = LogisticRegression(solver = \"liblinear\")\n",
    "loj_model = loj.fit(X,y)\n",
    "loj_model"
   ]
  },
  {
   "cell_type": "code",
   "execution_count": 42,
   "metadata": {},
   "outputs": [
    {
     "data": {
      "text/plain": [
       "array([[-6.98803314e-02,  8.59879143e-03, -1.33958288e-01,\n",
       "        -7.35094148e-02, -2.38249767e-03,  0.00000000e+00,\n",
       "         0.00000000e+00, -8.26036691e-04,  0.00000000e+00,\n",
       "        -2.05554727e-03,  3.01223214e-02,  0.00000000e+00,\n",
       "         0.00000000e+00, -6.28363400e-01, -1.70989997e-01,\n",
       "         3.42253529e-02,  0.00000000e+00,  1.76759920e-02,\n",
       "         2.03919469e-01,  0.00000000e+00,  0.00000000e+00,\n",
       "        -7.35968363e-01,  1.10342906e-01,  1.09447393e-01,\n",
       "        -1.64300762e-02,  0.00000000e+00, -2.39852483e-02,\n",
       "        -3.75442830e-02, -9.56255595e-03, -1.30360149e-01,\n",
       "         0.00000000e+00,  0.00000000e+00,  0.00000000e+00,\n",
       "        -5.89266374e-02,  2.21198898e-03, -2.82613798e-01,\n",
       "        -8.82604275e-02,  1.32485010e+00, -2.47728269e-01,\n",
       "         0.00000000e+00, -1.48255378e-01,  0.00000000e+00,\n",
       "        -5.74613539e-03, -8.66227167e-02, -6.85134220e-02,\n",
       "         2.58898367e-05, -1.32876544e-03, -4.21484320e-03,\n",
       "         8.90859391e-02, -5.62060852e-02, -2.42530923e-01,\n",
       "         3.44780662e-01,  0.00000000e+00,  3.49234086e-01,\n",
       "         0.00000000e+00, -1.84997805e-01,  4.95767978e-01,\n",
       "         2.92963561e-01, -5.55122446e-02,  3.99455943e-01,\n",
       "        -1.50842609e-02, -6.21123170e-03, -4.68026954e-01,\n",
       "         0.00000000e+00,  0.00000000e+00,  2.94304269e-01,\n",
       "        -1.09812493e-02, -1.56870344e-01,  1.23382259e-02,\n",
       "        -1.52663603e-01,  0.00000000e+00, -5.61170467e-01,\n",
       "        -1.16317880e-04,  0.00000000e+00, -6.72092715e-05,\n",
       "        -5.46281865e-02, -1.32528384e-02, -2.24681155e-02,\n",
       "         0.00000000e+00,  0.00000000e+00,  0.00000000e+00,\n",
       "        -1.12405687e-01, -2.36685490e-02,  0.00000000e+00,\n",
       "         5.34993864e-02,  0.00000000e+00, -8.07109185e-03,\n",
       "         0.00000000e+00,  3.06443103e-02, -2.22542970e-01,\n",
       "        -1.84195328e-01,  5.93781697e-01, -5.07002843e-02,\n",
       "         9.90437903e-01,  8.04013681e-02,  0.00000000e+00,\n",
       "         0.00000000e+00,  0.00000000e+00,  0.00000000e+00,\n",
       "         0.00000000e+00,  3.12022640e-01,  1.46498075e-01,\n",
       "         2.11188876e-01, -4.03241400e-02, -4.68932185e-03,\n",
       "         8.78836224e-02, -2.16572076e-01,  5.34611433e-02,\n",
       "        -4.91220449e-02, -2.11877870e-02,  0.00000000e+00,\n",
       "        -2.52355689e-02,  0.00000000e+00, -1.01075831e-04,\n",
       "        -6.28130937e-03,  0.00000000e+00, -1.16542757e-01,\n",
       "        -3.61289252e-01,  2.67337850e-01, -1.04185125e-01,\n",
       "         0.00000000e+00, -9.59683429e-02, -2.82975172e-02,\n",
       "         0.00000000e+00, -5.36491178e-02,  5.99628724e-09,\n",
       "         2.17475623e-01, -6.43590749e-02,  1.34235918e+00,\n",
       "         1.03915694e-01,  1.89060547e-02, -1.58670601e-01,\n",
       "         6.68823737e-02, -3.92712520e-01,  1.78005050e-01,\n",
       "         0.00000000e+00, -3.69191208e-01,  0.00000000e+00,\n",
       "        -3.98082981e-01, -6.96882661e-01,  2.44192609e-01,\n",
       "        -6.62750036e-03,  2.37499372e-01, -4.52433775e-03,\n",
       "         3.39547038e-02,  0.00000000e+00,  0.00000000e+00,\n",
       "         0.00000000e+00,  2.24365219e-01, -7.49940769e-01,\n",
       "         0.00000000e+00,  0.00000000e+00,  0.00000000e+00,\n",
       "        -1.48439706e-02,  1.41858384e-01, -4.98281380e-02,\n",
       "        -1.32596765e-01, -1.11821729e-01,  0.00000000e+00,\n",
       "         0.00000000e+00,  0.00000000e+00, -2.40225834e-02,\n",
       "         8.88928807e-02,  0.00000000e+00,  3.59262389e-01,\n",
       "         0.00000000e+00,  0.00000000e+00,  0.00000000e+00,\n",
       "         0.00000000e+00, -2.13490498e-01, -2.17101307e-02,\n",
       "         0.00000000e+00,  4.50940354e-02, -8.01215307e-03,\n",
       "         0.00000000e+00,  1.02993041e+00, -9.28260654e-02,\n",
       "        -5.27347032e-05, -4.51112759e-01, -4.01489274e-04,\n",
       "         0.00000000e+00,  0.00000000e+00, -2.94050694e-02,\n",
       "        -3.88337018e-01,  0.00000000e+00,  0.00000000e+00,\n",
       "         0.00000000e+00,  0.00000000e+00,  3.03710750e-01,\n",
       "         3.64882415e-02, -9.36174042e-01,  0.00000000e+00,\n",
       "        -8.30484282e-02,  3.90580167e-02,  0.00000000e+00,\n",
       "         0.00000000e+00,  5.76486020e-01, -1.60128511e-02,\n",
       "        -6.07608752e-02,  0.00000000e+00,  0.00000000e+00,\n",
       "        -2.53126771e-02, -6.48885087e-02,  0.00000000e+00,\n",
       "         0.00000000e+00,  0.00000000e+00,  0.00000000e+00,\n",
       "        -1.29892891e-03,  1.39039973e-01,  1.11486464e-01,\n",
       "         2.10367531e-01, -3.84003498e-02, -9.43778882e-02,\n",
       "        -1.06484001e-01,  0.00000000e+00, -5.39328621e-02,\n",
       "         0.00000000e+00,  0.00000000e+00,  3.41208390e-02,\n",
       "        -1.10726280e-02, -2.79821703e-01, -3.69461941e-02,\n",
       "        -5.24413712e-02,  0.00000000e+00,  6.60694150e-02,\n",
       "         0.00000000e+00,  1.97481213e-01,  0.00000000e+00,\n",
       "         2.35174124e-01,  0.00000000e+00,  0.00000000e+00,\n",
       "         3.93902809e-01,  7.03292086e-01,  9.90118749e-03,\n",
       "        -1.45024430e-01,  0.00000000e+00, -3.21734167e-01,\n",
       "         0.00000000e+00,  0.00000000e+00, -1.39482507e-01,\n",
       "         1.84673814e-01, -1.73984152e-01, -8.46883179e-03,\n",
       "        -6.80031977e-03, -4.42829604e-01,  0.00000000e+00,\n",
       "         1.74794993e-04,  0.00000000e+00,  0.00000000e+00,\n",
       "         1.58032248e-01,  1.72588904e-02,  0.00000000e+00,\n",
       "        -4.78642669e-02, -4.48991244e-02, -3.34617395e-01,\n",
       "        -3.53058914e-01, -2.69169964e-03,  0.00000000e+00,\n",
       "        -8.10258830e-04, -4.27845286e-02,  0.00000000e+00,\n",
       "        -2.42494435e-03,  1.24372098e-01, -4.31963184e-02,\n",
       "        -1.32876544e-03,  2.32760719e-02, -9.88000646e-02,\n",
       "         0.00000000e+00,  1.96986983e-02,  0.00000000e+00,\n",
       "        -4.58567974e-01, -4.89415853e-01, -2.42653596e-01,\n",
       "         0.00000000e+00, -7.59471081e-03,  6.44195993e-02,\n",
       "         0.00000000e+00,  0.00000000e+00, -1.05067176e-01,\n",
       "        -6.41113463e-02, -1.38854511e-01, -2.46059604e-01,\n",
       "         0.00000000e+00,  0.00000000e+00,  0.00000000e+00,\n",
       "         0.00000000e+00,  5.29863890e-02,  0.00000000e+00,\n",
       "         0.00000000e+00,  0.00000000e+00,  0.00000000e+00,\n",
       "         0.00000000e+00,  0.00000000e+00,  0.00000000e+00,\n",
       "         0.00000000e+00,  0.00000000e+00, -4.76119254e-01,\n",
       "         5.79895790e-01,  0.00000000e+00,  0.00000000e+00,\n",
       "         0.00000000e+00,  0.00000000e+00, -1.87308631e-02,\n",
       "         0.00000000e+00, -2.19304287e-03, -9.75497697e-03,\n",
       "         0.00000000e+00,  0.00000000e+00,  0.00000000e+00,\n",
       "        -3.13498380e-01,  5.08144848e-01,  5.23355702e-02,\n",
       "         0.00000000e+00,  0.00000000e+00,  2.03757426e-01,\n",
       "        -4.55640369e-02,  3.26746171e-02,  0.00000000e+00,\n",
       "         0.00000000e+00, -8.49243217e-03,  0.00000000e+00,\n",
       "         3.74612406e-07,  0.00000000e+00,  0.00000000e+00,\n",
       "         0.00000000e+00, -2.27807414e-01, -7.86428527e-02,\n",
       "        -1.06212965e-02,  1.01057437e-01, -7.77696789e-02,\n",
       "         0.00000000e+00, -8.56430089e-03, -1.48774852e-02,\n",
       "         0.00000000e+00, -2.81122627e-02, -9.57860867e-02,\n",
       "         0.00000000e+00, -1.51920858e-02, -3.54243578e-04,\n",
       "         0.00000000e+00,  0.00000000e+00,  0.00000000e+00,\n",
       "         0.00000000e+00,  0.00000000e+00, -2.71351484e-01,\n",
       "        -1.22746467e-01, -1.38585786e-01, -2.45439139e-02,\n",
       "         3.52552350e-01, -3.79039032e-02, -3.59224977e-02,\n",
       "        -6.66794204e-03, -3.07648473e-01,  0.00000000e+00,\n",
       "         0.00000000e+00,  0.00000000e+00,  0.00000000e+00,\n",
       "         0.00000000e+00, -1.45984457e-01, -9.72611051e-02,\n",
       "        -1.03674854e-01, -2.02672386e-02,  0.00000000e+00,\n",
       "        -3.48828148e-02,  0.00000000e+00,  0.00000000e+00,\n",
       "         1.06073403e-01,  0.00000000e+00,  0.00000000e+00,\n",
       "        -5.11247333e-03, -1.42769936e-01, -1.04792485e-02,\n",
       "         0.00000000e+00,  0.00000000e+00,  3.92964670e-01,\n",
       "         0.00000000e+00,  0.00000000e+00,  0.00000000e+00,\n",
       "         0.00000000e+00, -1.33403391e-02,  0.00000000e+00,\n",
       "         7.85955193e-01,  0.00000000e+00,  0.00000000e+00,\n",
       "        -2.82590273e-01,  0.00000000e+00,  0.00000000e+00,\n",
       "         5.73846339e-01, -1.53087836e-01,  0.00000000e+00,\n",
       "         0.00000000e+00,  1.94594929e-01, -1.91889425e-02,\n",
       "         0.00000000e+00, -1.12384787e-01, -1.34864044e-05,\n",
       "        -1.86973253e-01, -3.57037732e-03,  0.00000000e+00,\n",
       "         0.00000000e+00, -6.62083028e-05,  0.00000000e+00,\n",
       "         0.00000000e+00,  0.00000000e+00,  0.00000000e+00,\n",
       "         5.14026530e-02, -1.01958189e-02,  2.87612150e-02,\n",
       "         0.00000000e+00, -1.13906760e+00, -4.67845792e-01,\n",
       "        -3.07810642e-01, -7.03699556e-02,  0.00000000e+00,\n",
       "         2.74422799e-01, -4.00257764e-01, -3.57037732e-03,\n",
       "         0.00000000e+00,  0.00000000e+00,  0.00000000e+00,\n",
       "         0.00000000e+00,  0.00000000e+00, -4.19690976e-02,\n",
       "        -8.67623356e-02,  0.00000000e+00, -1.89730205e-03,\n",
       "        -6.16182775e-01, -1.22163959e-01,  0.00000000e+00,\n",
       "        -2.79008190e-02, -3.83984842e-02,  0.00000000e+00,\n",
       "         0.00000000e+00, -3.59928257e-02, -1.01075831e-04,\n",
       "         0.00000000e+00, -1.56327023e-01, -7.10050779e-02,\n",
       "        -7.31433117e-03,  1.81775794e-01, -5.27347032e-05,\n",
       "        -3.16695034e-03,  0.00000000e+00, -1.29134070e-01,\n",
       "        -1.19263502e-01, -2.29515341e-01,  2.09731687e-01,\n",
       "        -2.64001258e-03, -4.27845286e-02,  4.68111417e-03,\n",
       "        -3.14247586e-01,  0.00000000e+00, -2.03862061e-01,\n",
       "        -1.25990303e-01,  3.40308123e-01,  2.59936512e-01,\n",
       "         3.85810744e-01,  5.24677842e-01,  1.75444647e-01,\n",
       "         1.30863278e-01,  1.38989888e-01, -2.03056147e-01,\n",
       "         5.77245397e-08,  0.00000000e+00,  0.00000000e+00,\n",
       "         0.00000000e+00,  6.41194408e-01,  0.00000000e+00,\n",
       "        -2.41540562e-02,  0.00000000e+00,  1.36136987e-01,\n",
       "         0.00000000e+00,  5.70625430e-02,  3.19625354e-01,\n",
       "        -3.06341659e-01,  1.38989888e-01,  0.00000000e+00,\n",
       "        -4.13651224e-02,  4.80446217e-02, -5.22434971e-03,\n",
       "         0.00000000e+00, -8.85344559e-02,  3.85979423e-02,\n",
       "         0.00000000e+00,  0.00000000e+00, -2.12439984e-02,\n",
       "        -3.37791710e-03,  0.00000000e+00, -8.03437482e-03,\n",
       "         9.98605236e-02, -3.83984842e-02,  0.00000000e+00,\n",
       "        -4.17110474e-01,  0.00000000e+00, -1.60023835e-01,\n",
       "        -1.01518348e-01,  0.00000000e+00,  0.00000000e+00,\n",
       "        -9.86840906e-03,  0.00000000e+00,  6.91365502e-02,\n",
       "         1.51139757e-02, -4.27845286e-02,  0.00000000e+00,\n",
       "         0.00000000e+00,  0.00000000e+00, -6.27880777e-01,\n",
       "         0.00000000e+00, -6.71711063e-02, -8.56167375e-02,\n",
       "         0.00000000e+00,  0.00000000e+00,  0.00000000e+00,\n",
       "        -1.32200173e-01, -4.57306473e-01,  0.00000000e+00,\n",
       "         0.00000000e+00,  6.69226143e-01, -7.08111572e-03,\n",
       "        -2.37351436e-01,  0.00000000e+00,  0.00000000e+00,\n",
       "         1.37648088e-01, -2.31837826e-02, -2.64731068e-01,\n",
       "        -1.15055489e-01, -1.00616902e-01,  1.60762633e-02,\n",
       "         0.00000000e+00,  0.00000000e+00, -1.13337423e-01,\n",
       "        -8.10602311e-03, -3.49026735e-02, -1.28148821e-01,\n",
       "        -2.29237293e-02,  0.00000000e+00, -4.73764693e-01,\n",
       "        -1.76255982e-01, -6.75087626e-03,  0.00000000e+00,\n",
       "         0.00000000e+00, -7.37140701e-02,  0.00000000e+00,\n",
       "         0.00000000e+00, -1.05104074e-02,  0.00000000e+00,\n",
       "         6.38594355e-02, -9.76375684e-02, -3.41658084e-01,\n",
       "        -1.50444037e-04, -3.71682250e-02, -5.71835390e-03,\n",
       "         0.00000000e+00, -2.60110989e-01,  0.00000000e+00,\n",
       "         0.00000000e+00, -1.60400883e-02,  0.00000000e+00,\n",
       "        -1.96247316e-01,  1.56842552e-01, -9.43598385e-03,\n",
       "        -1.45982733e-05,  4.08582726e-02, -3.80106334e-02,\n",
       "        -1.89026665e+00, -1.34098932e-01,  0.00000000e+00,\n",
       "         0.00000000e+00,  0.00000000e+00, -2.81128682e-02,\n",
       "        -2.70723438e-03,  0.00000000e+00,  0.00000000e+00,\n",
       "        -4.04926149e-01,  3.41487651e-01,  0.00000000e+00,\n",
       "         0.00000000e+00, -1.42292185e-02,  5.94877884e-01,\n",
       "        -1.85805462e-02, -7.13509875e-03,  0.00000000e+00,\n",
       "        -6.10010718e-01, -1.35588579e-01, -3.67946292e-02,\n",
       "         8.75001625e-02,  0.00000000e+00, -1.30891797e-01,\n",
       "         0.00000000e+00,  0.00000000e+00, -3.46674903e-02,\n",
       "        -2.64338513e-03, -1.16019620e-02, -4.00558745e-05,\n",
       "        -1.42048681e-03,  0.00000000e+00,  2.87877185e-01,\n",
       "        -8.26612867e-03, -8.69073556e-01,  0.00000000e+00,\n",
       "         1.60762633e-02,  2.64085448e-01, -1.34308631e-01,\n",
       "         0.00000000e+00, -3.40507552e-01, -8.18441320e-02,\n",
       "         0.00000000e+00,  0.00000000e+00,  0.00000000e+00,\n",
       "         1.09266512e-01,  0.00000000e+00,  0.00000000e+00,\n",
       "         0.00000000e+00, -1.74667405e-02,  0.00000000e+00,\n",
       "        -8.58587196e-02,  0.00000000e+00,  3.03585884e-02,\n",
       "         0.00000000e+00, -5.27287069e-05, -2.89157394e-01,\n",
       "        -7.55457495e-02,  0.00000000e+00, -5.98461089e-03,\n",
       "        -1.36591810e-02, -4.64516971e-01, -1.56512807e-03,\n",
       "         1.14768092e-01,  3.75884269e-01, -2.02672386e-02,\n",
       "         8.66991537e-02,  0.00000000e+00, -5.51541284e-02,\n",
       "        -1.71072772e-02,  0.00000000e+00,  7.93847242e-02,\n",
       "         9.30630268e-02, -1.82123401e-02, -9.19928512e-02,\n",
       "        -8.56202675e-01, -1.57357079e-01,  0.00000000e+00,\n",
       "         0.00000000e+00,  0.00000000e+00, -2.23042946e-01,\n",
       "         0.00000000e+00, -1.30399251e-02,  0.00000000e+00,\n",
       "         1.06564727e-01, -8.53903991e-04, -1.38577206e-03,\n",
       "        -1.15984120e-01, -2.34582049e-02, -1.85440648e-02,\n",
       "         1.40766288e-01, -1.62710590e-02,  0.00000000e+00,\n",
       "         0.00000000e+00,  1.37132507e-01,  2.08265089e-02,\n",
       "         1.44836652e-01, -1.07204417e-01,  0.00000000e+00,\n",
       "         0.00000000e+00, -2.32699199e-02, -2.13952853e-01,\n",
       "        -5.58218303e-05, -5.38005847e-02, -1.19437284e-02,\n",
       "         4.60409922e-02,  0.00000000e+00,  0.00000000e+00,\n",
       "        -1.93584893e-01,  0.00000000e+00,  0.00000000e+00,\n",
       "         0.00000000e+00,  0.00000000e+00, -1.30115904e-02]])"
      ]
     },
     "execution_count": 42,
     "metadata": {},
     "output_type": "execute_result"
    }
   ],
   "source": [
    "loj_model.intercept_      # constant value\n",
    "loj_model.coef_           # independent values"
   ]
  },
  {
   "cell_type": "markdown",
   "metadata": {},
   "source": [
    "## Predict & Model Tuning"
   ]
  },
  {
   "cell_type": "code",
   "execution_count": 43,
   "metadata": {},
   "outputs": [
    {
     "data": {
      "text/plain": [
       "array([[411,   1],\n",
       "       [  3,  85]], dtype=int64)"
      ]
     },
     "execution_count": 43,
     "metadata": {},
     "output_type": "execute_result"
    }
   ],
   "source": [
    "y_pred = loj_model.predict(X)        # predict\n",
    "confusion_matrix(y, y_pred)          # confussion matrix"
   ]
  },
  {
   "cell_type": "code",
   "execution_count": 44,
   "metadata": {},
   "outputs": [
    {
     "data": {
      "text/plain": [
       "0.992"
      ]
     },
     "execution_count": 44,
     "metadata": {},
     "output_type": "execute_result"
    }
   ],
   "source": [
    "accuracy_score(y, y_pred)"
   ]
  },
  {
   "cell_type": "code",
   "execution_count": 45,
   "metadata": {},
   "outputs": [
    {
     "name": "stdout",
     "output_type": "stream",
     "text": [
      "              precision    recall  f1-score   support\n",
      "\n",
      "         0.0       0.99      1.00      1.00       412\n",
      "         1.0       0.99      0.97      0.98        88\n",
      "\n",
      "    accuracy                           0.99       500\n",
      "   macro avg       0.99      0.98      0.99       500\n",
      "weighted avg       0.99      0.99      0.99       500\n",
      "\n"
     ]
    }
   ],
   "source": [
    "print(classification_report(y, y_pred))"
   ]
  },
  {
   "cell_type": "code",
   "execution_count": 46,
   "metadata": {},
   "outputs": [
    {
     "data": {
      "text/plain": [
       "array([0., 0., 0., 0., 0., 0., 0., 0., 1., 0., 0., 0., 1., 0., 0., 0., 0.,\n",
       "       0., 0., 0.])"
      ]
     },
     "execution_count": 46,
     "metadata": {},
     "output_type": "execute_result"
    }
   ],
   "source": [
    "# Model predict\n",
    "loj_model.predict(X)[0:20]"
   ]
  },
  {
   "cell_type": "code",
   "execution_count": 47,
   "metadata": {},
   "outputs": [
    {
     "data": {
      "text/plain": [
       "array([[9.94801299e-01, 5.19870137e-03],\n",
       "       [9.97876279e-01, 2.12372071e-03],\n",
       "       [9.72256124e-01, 2.77438761e-02],\n",
       "       [9.96201763e-01, 3.79823700e-03],\n",
       "       [9.99132497e-01, 8.67503392e-04],\n",
       "       [9.98669874e-01, 1.33012596e-03],\n",
       "       [9.99707215e-01, 2.92784820e-04],\n",
       "       [9.27492381e-01, 7.25076190e-02],\n",
       "       [1.37153737e-02, 9.86284626e-01],\n",
       "       [9.94567910e-01, 5.43208997e-03]])"
      ]
     },
     "execution_count": 47,
     "metadata": {},
     "output_type": "execute_result"
    }
   ],
   "source": [
    "loj_model.predict_proba(X)[0:10][:,0:2]"
   ]
  },
  {
   "cell_type": "code",
   "execution_count": 48,
   "metadata": {},
   "outputs": [
    {
     "data": {
      "text/plain": [
       "array([5.19870137e-03, 2.12372071e-03, 2.77438761e-02, 3.79823700e-03,\n",
       "       8.67503392e-04, 1.33012596e-03, 2.92784820e-04, 7.25076190e-02,\n",
       "       9.86284626e-01, 5.43208997e-03, 4.94676000e-03, 7.87979263e-04,\n",
       "       9.33000893e-01, 5.36249767e-06, 9.12182873e-03, 6.67318673e-02,\n",
       "       1.30031557e-02, 4.57764467e-02, 8.21658778e-03, 1.62201586e-02])"
      ]
     },
     "execution_count": 48,
     "metadata": {},
     "output_type": "execute_result"
    }
   ],
   "source": [
    "\n",
    "\n",
    "y_probs = loj_model.predict_proba(X)\n",
    "y_probs = y_probs[:,1]\n",
    "y_probs[0:20]"
   ]
  },
  {
   "cell_type": "code",
   "execution_count": 49,
   "metadata": {},
   "outputs": [],
   "source": [
    "# giving limit for values\n",
    "\n",
    "y_pred = [1 if i > 0.5 else 0 for i in y_probs]"
   ]
  },
  {
   "cell_type": "code",
   "execution_count": 50,
   "metadata": {},
   "outputs": [
    {
     "data": {
      "text/plain": [
       "[0, 0, 0, 0, 0, 0, 0, 0, 1, 0, 0, 0, 1, 0, 0, 0, 0, 0, 0, 0]"
      ]
     },
     "execution_count": 50,
     "metadata": {},
     "output_type": "execute_result"
    }
   ],
   "source": [
    "\n",
    "y_pred[0:20]"
   ]
  },
  {
   "cell_type": "code",
   "execution_count": 51,
   "metadata": {},
   "outputs": [
    {
     "data": {
      "text/plain": [
       "array([[411,   1],\n",
       "       [  3,  85]], dtype=int64)"
      ]
     },
     "execution_count": 51,
     "metadata": {},
     "output_type": "execute_result"
    }
   ],
   "source": [
    "confusion_matrix(y, y_pred)"
   ]
  },
  {
   "cell_type": "code",
   "execution_count": 52,
   "metadata": {},
   "outputs": [
    {
     "data": {
      "text/plain": [
       "0.992"
      ]
     },
     "execution_count": 52,
     "metadata": {},
     "output_type": "execute_result"
    }
   ],
   "source": [
    "accuracy_score(y, y_pred)"
   ]
  },
  {
   "cell_type": "code",
   "execution_count": 53,
   "metadata": {},
   "outputs": [
    {
     "name": "stdout",
     "output_type": "stream",
     "text": [
      "              precision    recall  f1-score   support\n",
      "\n",
      "         0.0       0.99      1.00      1.00       412\n",
      "         1.0       0.99      0.97      0.98        88\n",
      "\n",
      "    accuracy                           0.99       500\n",
      "   macro avg       0.99      0.98      0.99       500\n",
      "weighted avg       0.99      0.99      0.99       500\n",
      "\n"
     ]
    }
   ],
   "source": [
    "print(classification_report(y, y_pred))"
   ]
  },
  {
   "cell_type": "code",
   "execution_count": 79,
   "metadata": {},
   "outputs": [
    {
     "data": {
      "image/png": "[encoded data removed]",
      "text/plain": [
       "<Figure size 640x480 with 1 Axes>"
      ]
     },
     "metadata": {},
     "output_type": "display_data"
    }
   ],
   "source": [
    "import matplotlib.pyplot as plt\n",
    "\n",
    "plt.hist(epicurious.cookbooks, bins=30, color='lightgreen', edgecolor='black')\n",
    "plt.xlabel('advance prep required ')\n",
    "plt.ylabel('Frequency')\n",
    "plt.title('Histogram of advance prep required ')\n",
    "plt.show()\n"
   ]
  },
  {
   "cell_type": "code",
   "execution_count": 81,
   "metadata": {},
   "outputs": [
    {
     "data": {
      "image/png": "[encoded data removed]",
      "text/plain": [
       "<Figure size 640x480 with 1 Axes>"
      ]
     },
     "metadata": {},
     "output_type": "display_data"
    }
   ],
   "source": [
    "\n",
    "rating_counts = epicurious.groupby('rating')['3-ingredient recipes'].mean().reset_index()\n",
    "\n",
    "plt.bar(rating_counts['rating'], rating_counts['3-ingredient recipes'], color='skyblue', edgecolor='black')\n",
    "plt.xlabel('Rating')\n",
    "plt.ylabel('3-ingredient recipes')\n",
    "plt.title('Average Number 3-ingredient recipes')\n",
    "plt.xticks(rotation=45) \n",
    "plt.show()\n"
   ]
  },
  {
   "cell_type": "code",
   "execution_count": 73,
   "metadata": {},
   "outputs": [
    {
     "data": {
      "image/png": "[encoded data removed]",
      "text/plain": [
       "<Figure size 640x480 with 1 Axes>"
      ]
     },
     "metadata": {},
     "output_type": "display_data"
    }
   ],
   "source": [
    "plt.scatter(epicurious.rating,epicurious.cookbooks)\n",
    "plt.xlabel('rating')\n",
    "plt.ylabel('cookbooks')\n",
    "plt.show()"
   ]
  },
  {
   "cell_type": "code",
   "execution_count": 54,
   "metadata": {},
   "outputs": [
    {
     "data": {
      "text/plain": [
       "<Axes: >"
      ]
     },
     "execution_count": 54,
     "metadata": {},
     "output_type": "execute_result"
    },
    {
     "data": {
      "image/png": "[encoded data removed]",
      "text/plain": [
       "<Figure size 640x480 with 1 Axes>"
      ]
     },
     "metadata": {},
     "output_type": "display_data"
    }
   ],
   "source": [
    "sns.boxplot(epicurious.rating)"
   ]
  },
  {
   "cell_type": "code",
   "execution_count": 24,
   "metadata": {},
   "outputs": [
    {
     "data": {
      "image/png": "[encoded data removed]",
      "text/plain": [
       "<Figure size 432x288 with 1 Axes>"
      ]
     },
     "metadata": {},
     "output_type": "display_data"
    }
   ],
   "source": [
    "logit_roc_auc = roc_auc_score(y, loj_model.predict(X))\n",
    "\n",
    "fpr, tpr, thresholds = roc_curve(y, loj_model.predict_proba(X)[:,1])\n",
    "plt.figure()\n",
    "plt.plot(fpr, tpr, label='AUC (area = %0.2f)' % logit_roc_auc)\n",
    "plt.plot([0, 1], [0, 1],'r--')\n",
    "plt.xlim([0.0, 1.0])\n",
    "plt.ylim([0.0, 1.05])\n",
    "plt.xlabel('False Positive Rate')\n",
    "plt.ylabel('True Positive Rate')\n",
    "plt.title('ROC')\n",
    "plt.show()\n",
    "\n",
    "# blue line: which we set our model\n",
    "# red line: if we dont do it what can we take result"
   ]
  },
  {
   "cell_type": "code",
   "execution_count": 25,
   "metadata": {},
   "outputs": [],
   "source": [
    "# lets split test train set\n",
    "\n",
    "X_train, X_test, y_train, y_test = train_test_split(X, y, \n",
    "                                                    test_size = 0.30, \n",
    "                                                    random_state = 42)"
   ]
  },
  {
   "cell_type": "code",
   "execution_count": 26,
   "metadata": {},
   "outputs": [
    {
     "data": {
      "text/plain": [
       "LogisticRegression(C=1.0, class_weight=None, dual=False, fit_intercept=True,\n",
       "                   intercept_scaling=1, l1_ratio=None, max_iter=100,\n",
       "                   multi_class='warn', n_jobs=None, penalty='l2',\n",
       "                   random_state=None, solver='liblinear', tol=0.0001, verbose=0,\n",
       "                   warm_start=False)"
      ]
     },
     "execution_count": 26,
     "metadata": {},
     "output_type": "execute_result"
    }
   ],
   "source": [
    "# set model\n",
    "\n",
    "loj = LogisticRegression(solver = \"liblinear\")\n",
    "loj_model = loj.fit(X_train,y_train)\n",
    "loj_model"
   ]
  },
  {
   "cell_type": "code",
   "execution_count": 27,
   "metadata": {},
   "outputs": [
    {
     "data": {
      "text/plain": [
       "0.9666666666666667"
      ]
     },
     "execution_count": 27,
     "metadata": {},
     "output_type": "execute_result"
    }
   ],
   "source": [
    "accuracy_score(y_test, loj_model.predict(X_test))"
   ]
  },
  {
   "cell_type": "code",
   "execution_count": 28,
   "metadata": {},
   "outputs": [
    {
     "data": {
      "text/plain": [
       "0.9194642857142858"
      ]
     },
     "execution_count": 28,
     "metadata": {},
     "output_type": "execute_result"
    }
   ],
   "source": [
    "# with cross validation \n",
    "\n",
    "cross_val_score(loj_model, X_test, y_test, cv = 10).mean()"
   ]
  },
  {
   "cell_type": "markdown",
   "metadata": {},
   "source": [
    "# 3.Gaussian Naive Bayes"
   ]
  },
  {
   "cell_type": "code",
   "execution_count": 29,
   "metadata": {},
   "outputs": [
    {
     "data": {
      "text/plain": [
       "GaussianNB(priors=None, var_smoothing=1e-09)"
      ]
     },
     "execution_count": 29,
     "metadata": {},
     "output_type": "execute_result"
    }
   ],
   "source": [
    "nb = GaussianNB()\n",
    "nb_model = nb.fit(X_train, y_train)\n",
    "nb_model"
   ]
  },
  {
   "cell_type": "code",
   "execution_count": 30,
   "metadata": {},
   "outputs": [
    {
     "data": {
      "text/plain": [
       "array([0., 0., 0., 0., 0., 0., 0., 0., 0., 0., 0., 0., 1., 1., 0., 0., 0.,\n",
       "       0., 0., 0.])"
      ]
     },
     "execution_count": 30,
     "metadata": {},
     "output_type": "execute_result"
    }
   ],
   "source": [
    "nb_model.predict(X_test)[0:20]"
   ]
  },
  {
   "cell_type": "code",
   "execution_count": 31,
   "metadata": {},
   "outputs": [
    {
     "data": {
      "text/plain": [
       "array([[1.00000000e+000, 0.00000000e+000],\n",
       "       [1.00000000e+000, 0.00000000e+000],\n",
       "       [1.00000000e+000, 0.00000000e+000],\n",
       "       [1.00000000e+000, 0.00000000e+000],\n",
       "       [1.00000000e+000, 6.32353549e-295],\n",
       "       [1.00000000e+000, 0.00000000e+000],\n",
       "       [1.00000000e+000, 0.00000000e+000],\n",
       "       [1.00000000e+000, 1.25607727e-166],\n",
       "       [1.00000000e+000, 0.00000000e+000],\n",
       "       [1.00000000e+000, 0.00000000e+000]])"
      ]
     },
     "execution_count": 31,
     "metadata": {},
     "output_type": "execute_result"
    }
   ],
   "source": [
    "nb_model.predict_proba(X_test)[0:10]"
   ]
  },
  {
   "cell_type": "code",
   "execution_count": 32,
   "metadata": {},
   "outputs": [
    {
     "data": {
      "text/plain": [
       "0.94"
      ]
     },
     "execution_count": 32,
     "metadata": {},
     "output_type": "execute_result"
    }
   ],
   "source": [
    "# predict\n",
    "y_pred = nb_model.predict(X_test)\n",
    "accuracy_score(y_test, y_pred)"
   ]
  },
  {
   "cell_type": "code",
   "execution_count": 33,
   "metadata": {},
   "outputs": [
    {
     "data": {
      "text/plain": [
       "0.7800595238095238"
      ]
     },
     "execution_count": 33,
     "metadata": {},
     "output_type": "execute_result"
    }
   ],
   "source": [
    "cross_val_score(nb_model, X_test, y_test, cv = 10).mean()"
   ]
  },
  {
   "cell_type": "markdown",
   "metadata": {},
   "source": [
    "# 4.KNN\n",
    "## 4.1.Predict & Model"
   ]
  },
  {
   "cell_type": "code",
   "execution_count": 34,
   "metadata": {},
   "outputs": [
    {
     "data": {
      "text/plain": [
       "KNeighborsClassifier(algorithm='auto', leaf_size=30, metric='minkowski',\n",
       "                     metric_params=None, n_jobs=None, n_neighbors=5, p=2,\n",
       "                     weights='uniform')"
      ]
     },
     "execution_count": 34,
     "metadata": {},
     "output_type": "execute_result"
    }
   ],
   "source": [
    "knn = KNeighborsClassifier()\n",
    "knn_model = knn.fit(X_train, y_train)\n",
    "knn_model"
   ]
  },
  {
   "cell_type": "code",
   "execution_count": 35,
   "metadata": {},
   "outputs": [
    {
     "data": {
      "text/plain": [
       "0.7533333333333333"
      ]
     },
     "execution_count": 35,
     "metadata": {},
     "output_type": "execute_result"
    }
   ],
   "source": [
    "y_pred = knn_model.predict(X_test)\n",
    "accuracy_score(y_test, y_pred)"
   ]
  },
  {
   "cell_type": "code",
   "execution_count": 36,
   "metadata": {},
   "outputs": [
    {
     "name": "stdout",
     "output_type": "stream",
     "text": [
      "              precision    recall  f1-score   support\n",
      "\n",
      "         0.0       0.82      0.89      0.85       122\n",
      "         1.0       0.26      0.18      0.21        28\n",
      "\n",
      "    accuracy                           0.75       150\n",
      "   macro avg       0.54      0.53      0.53       150\n",
      "weighted avg       0.72      0.75      0.73       150\n",
      "\n"
     ]
    }
   ],
   "source": [
    "# get detail print\n",
    "\n",
    "print(classification_report(y_test, y_pred))"
   ]
  },
  {
   "cell_type": "markdown",
   "metadata": {},
   "source": [
    "## 4.2.Model Tunning"
   ]
  },
  {
   "cell_type": "code",
   "execution_count": 37,
   "metadata": {},
   "outputs": [],
   "source": [
    "# find KNN parameters\n",
    "knn_params = {\"n_neighbors\": np.arange(1,50)}"
   ]
  },
  {
   "cell_type": "code",
   "execution_count": 38,
   "metadata": {},
   "outputs": [
    {
     "data": {
      "text/plain": [
       "GridSearchCV(cv=10, error_score='raise-deprecating',\n",
       "             estimator=KNeighborsClassifier(algorithm='auto', leaf_size=30,\n",
       "                                            metric='minkowski',\n",
       "                                            metric_params=None, n_jobs=None,\n",
       "                                            n_neighbors=5, p=2,\n",
       "                                            weights='uniform'),\n",
       "             iid='warn', n_jobs=None,\n",
       "             param_grid={'n_neighbors': array([ 1,  2,  3,  4,  5,  6,  7,  8,  9, 10, 11, 12, 13, 14, 15, 16, 17,\n",
       "       18, 19, 20, 21, 22, 23, 24, 25, 26, 27, 28, 29, 30, 31, 32, 33, 34,\n",
       "       35, 36, 37, 38, 39, 40, 41, 42, 43, 44, 45, 46, 47, 48, 49])},\n",
       "             pre_dispatch='2*n_jobs', refit=True, return_train_score=False,\n",
       "             scoring=None, verbose=0)"
      ]
     },
     "execution_count": 38,
     "metadata": {},
     "output_type": "execute_result"
    }
   ],
   "source": [
    "# fit model classification & CV\n",
    "\n",
    "knn = KNeighborsClassifier()\n",
    "knn_cv = GridSearchCV(knn, knn_params, cv=10)\n",
    "knn_cv.fit(X_train, y_train)"
   ]
  },
  {
   "cell_type": "code",
   "execution_count": 39,
   "metadata": {},
   "outputs": [
    {
     "name": "stdout",
     "output_type": "stream",
     "text": [
      "Best score:0.84\n",
      "Best parameters: {'n_neighbors': 4}\n"
     ]
    }
   ],
   "source": [
    "# this is only observation\n",
    "\n",
    "print(\"Best score:\" + str(knn_cv.best_score_))\n",
    "print(\"Best parameters: \" + str(knn_cv.best_params_))"
   ]
  },
  {
   "cell_type": "code",
   "execution_count": 40,
   "metadata": {},
   "outputs": [
    {
     "data": {
      "text/plain": [
       "0.7866666666666666"
      ]
     },
     "execution_count": 40,
     "metadata": {},
     "output_type": "execute_result"
    }
   ],
   "source": [
    "knn = KNeighborsClassifier(4)\n",
    "knn_tuned = knn.fit(X_train, y_train)\n",
    "knn_tuned.score(X_test, y_test)"
   ]
  },
  {
   "cell_type": "code",
   "execution_count": 41,
   "metadata": {},
   "outputs": [
    {
     "data": {
      "text/plain": [
       "0.7866666666666666"
      ]
     },
     "execution_count": 41,
     "metadata": {},
     "output_type": "execute_result"
    }
   ],
   "source": [
    "y_pred = knn_tuned.predict(X_test)\n",
    "accuracy_score(y_test, y_pred)"
   ]
  },
  {
   "cell_type": "markdown",
   "metadata": {},
   "source": [
    "# 5.Random Forest"
   ]
  },
  {
   "cell_type": "code",
   "execution_count": 42,
   "metadata": {},
   "outputs": [
    {
     "data": {
      "text/plain": [
       "RandomForestClassifier(bootstrap=True, class_weight=None, criterion='gini',\n",
       "                       max_depth=None, max_features='auto', max_leaf_nodes=None,\n",
       "                       min_impurity_decrease=0.0, min_impurity_split=None,\n",
       "                       min_samples_leaf=1, min_samples_split=2,\n",
       "                       min_weight_fraction_leaf=0.0, n_estimators=10,\n",
       "                       n_jobs=None, oob_score=False, random_state=None,\n",
       "                       verbose=0, warm_start=False)"
      ]
     },
     "execution_count": 42,
     "metadata": {},
     "output_type": "execute_result"
    }
   ],
   "source": [
    "rf_model = RandomForestClassifier().fit(X_train, y_train)\n",
    "rf_model"
   ]
  },
  {
   "cell_type": "code",
   "execution_count": 43,
   "metadata": {},
   "outputs": [
    {
     "data": {
      "text/plain": [
       "0.9"
      ]
     },
     "execution_count": 43,
     "metadata": {},
     "output_type": "execute_result"
    }
   ],
   "source": [
    "y_pred = rf_model.predict(X_test)\n",
    "accuracy_score(y_test, y_pred)"
   ]
  },
  {
   "cell_type": "markdown",
   "metadata": {},
   "source": [
    "## Model Tuning"
   ]
  },
  {
   "cell_type": "code",
   "execution_count": 44,
   "metadata": {},
   "outputs": [],
   "source": [
    "rf_params = {\"max_depth\": [2,5,8,10],\n",
    "            \"max_features\": [2,5,8],\n",
    "            \"n_estimators\": [10,500,1000],\n",
    "            \"min_samples_split\": [2,5,10]}"
   ]
  },
  {
   "cell_type": "code",
   "execution_count": 45,
   "metadata": {},
   "outputs": [],
   "source": [
    "rf_model = RandomForestClassifier()\n",
    "\n",
    "rf_cv_model = GridSearchCV(rf_model, \n",
    "                           rf_params, \n",
    "                           cv = 10, \n",
    "                           n_jobs = -1, \n",
    "                           verbose = 2) "
   ]
  },
  {
   "cell_type": "code",
   "execution_count": 46,
   "metadata": {},
   "outputs": [
    {
     "name": "stdout",
     "output_type": "stream",
     "text": [
      "Fitting 10 folds for each of 108 candidates, totalling 1080 fits\n"
     ]
    },
    {
     "name": "stderr",
     "output_type": "stream",
     "text": [
      "[Parallel(n_jobs=-1)]: Using backend LokyBackend with 4 concurrent workers.\n",
      "[Parallel(n_jobs=-1)]: Done  33 tasks      | elapsed:   15.5s\n",
      "[Parallel(n_jobs=-1)]: Done 154 tasks      | elapsed:  1.1min\n",
      "[Parallel(n_jobs=-1)]: Done 357 tasks      | elapsed:  2.6min\n",
      "[Parallel(n_jobs=-1)]: Done 640 tasks      | elapsed:  4.6min\n",
      "[Parallel(n_jobs=-1)]: Done 1005 tasks      | elapsed:  7.2min\n",
      "[Parallel(n_jobs=-1)]: Done 1080 out of 1080 | elapsed:  7.9min finished\n"
     ]
    },
    {
     "data": {
      "text/plain": [
       "GridSearchCV(cv=10, error_score='raise-deprecating',\n",
       "             estimator=RandomForestClassifier(bootstrap=True, class_weight=None,\n",
       "                                              criterion='gini', max_depth=None,\n",
       "                                              max_features='auto',\n",
       "                                              max_leaf_nodes=None,\n",
       "                                              min_impurity_decrease=0.0,\n",
       "                                              min_impurity_split=None,\n",
       "                                              min_samples_leaf=1,\n",
       "                                              min_samples_split=2,\n",
       "                                              min_weight_fraction_leaf=0.0,\n",
       "                                              n_estimators='warn', n_jobs=None,\n",
       "                                              oob_score=False,\n",
       "                                              random_state=None, verbose=0,\n",
       "                                              warm_start=False),\n",
       "             iid='warn', n_jobs=-1,\n",
       "             param_grid={'max_depth': [2, 5, 8, 10], 'max_features': [2, 5, 8],\n",
       "                         'min_samples_split': [2, 5, 10],\n",
       "                         'n_estimators': [10, 500, 1000]},\n",
       "             pre_dispatch='2*n_jobs', refit=True, return_train_score=False,\n",
       "             scoring=None, verbose=2)"
      ]
     },
     "execution_count": 46,
     "metadata": {},
     "output_type": "execute_result"
    }
   ],
   "source": [
    "rf_cv_model.fit(X_train, y_train)"
   ]
  },
  {
   "cell_type": "code",
   "execution_count": 47,
   "metadata": {},
   "outputs": [
    {
     "name": "stdout",
     "output_type": "stream",
     "text": [
      "Best Parameters: {'max_depth': 10, 'max_features': 8, 'min_samples_split': 5, 'n_estimators': 10}\n"
     ]
    }
   ],
   "source": [
    "print(\"Best Parameters: \" + str(rf_cv_model.best_params_))"
   ]
  },
  {
   "cell_type": "code",
   "execution_count": 48,
   "metadata": {},
   "outputs": [
    {
     "data": {
      "text/plain": [
       "RandomForestClassifier(bootstrap=True, class_weight=None, criterion='gini',\n",
       "                       max_depth=8, max_features=8, max_leaf_nodes=None,\n",
       "                       min_impurity_decrease=0.0, min_impurity_split=None,\n",
       "                       min_samples_leaf=1, min_samples_split=5,\n",
       "                       min_weight_fraction_leaf=0.0, n_estimators=10,\n",
       "                       n_jobs=None, oob_score=False, random_state=None,\n",
       "                       verbose=0, warm_start=False)"
      ]
     },
     "execution_count": 48,
     "metadata": {},
     "output_type": "execute_result"
    }
   ],
   "source": [
    "# using given parameters then create final model\n",
    "\n",
    "rf_tuned = RandomForestClassifier(max_depth = 8, \n",
    "                                  max_features = 8, \n",
    "                                  min_samples_split = 5,\n",
    "                                  n_estimators = 10)\n",
    "\n",
    "rf_tuned.fit(X_train, y_train)"
   ]
  },
  {
   "cell_type": "code",
   "execution_count": 49,
   "metadata": {},
   "outputs": [
    {
     "data": {
      "text/plain": [
       "0.8266666666666667"
      ]
     },
     "execution_count": 49,
     "metadata": {},
     "output_type": "execute_result"
    }
   ],
   "source": [
    "# tunned test model predict accuracy score\n",
    "\n",
    "y_pred = rf_tuned.predict(X_test)\n",
    "accuracy_score(y_test, y_pred)"
   ]
  },
  {
   "cell_type": "markdown",
   "metadata": {},
   "source": [
    "##  Here’s a breakdown of the insights that could be drawn from each of these questions based on the dataset of recipes:\n",
    "\n",
    "# 1. Most Common Ingredients in Highly Rated Recipes\n",
    "Insight:\n",
    "\n",
    "Identification of Key Ingredients: By analyzing the ingredients in the top-rated recipes, we can identify which ingredients are frequently used in these recipes. For example, if many high-rated recipes contain ingredients like garlic, olive oil, or fresh herbs, these could be considered \"winning\" ingredients.\n",
    "\n",
    "User Preferences: Understanding these common ingredients can help in tailoring recommendations. If users often search for recipes with specific ingredients, emphasizing those in search results or suggested recipes can enhance user satisfaction.\n",
    "\n",
    "Recipe Development: For content creators, knowing which ingredients correlate with high ratings can inform new recipe development, guiding them to include popular ingredients to improve their chances of achieving high ratings.\n",
    "\n",
    "# 2. Correlations Between Preparation Time and Recipe Ratings\n",
    "Insight:\n",
    "\n",
    "Understanding User Expectations: Analyzing the relationship between preparation time and ratings can reveal if quicker recipes are more favorably rated or if users prefer more complex, time-consuming dishes. For instance, if shorter recipes tend to have higher ratings, this could suggest that users value convenience.\n",
    "\n",
    "Guiding User Choices: This analysis could help in filtering and recommending recipes based on user preferences. For example, if a user prefers quick meals, the platform could highlight those with shorter preparation times and higher ratings.\n",
    "\n",
    "Content Strategy: If the data shows a trend where longer preparation times lead to higher ratings, this could encourage recipe developers to create more elaborate, gourmet-style recipes, potentially appealing to a different audience segment.\n",
    "\n",
    "# 3. Improving User Experience for a Recipe Platform\n",
    "Insight:\n",
    "\n",
    "Personalized Recommendations: By analyzing users' preferences based on previous interactions (likes, saved recipes), the platform could offer personalized recipe suggestions. For example, if a user frequently selects highly rated Italian recipes, the platform could recommend similar dishes.\n",
    "\n",
    "Enhanced Search Filters: Incorporating filters for common ingredients, preparation time, and user ratings can enhance the search experience. Users could easily find recipes that match their time constraints or ingredient availability while ensuring high quality.\n",
    "\n",
    "Community Engagement: Leveraging insights about popular recipes and ingredients can facilitate community features, such as user-generated content. Users could be encouraged to submit their variations of popular recipes, fostering engagement.\n",
    "\n",
    "Educational Content: If certain ingredients or techniques are consistently linked with higher ratings, the platform could provide tutorials or tips on how to use these effectively, helping users improve their cooking skills and encouraging them to try new recipes.\n",
    "\n",
    "## Conclusion\n",
    "\n",
    "By exploring these areas, we can derive actionable insights that enhance user satisfaction, inform recipe development, and create a more engaging and effective platform overall. Data-driven decisions can lead to a better understanding of user preferences and ultimately improve the overall recipe browsing and cooking experience."
   ]
  }
 ],
 "metadata": {
  "kernelspec": {
   "display_name": "Python 3 (ipykernel)",
   "language": "python",
   "name": "python3"
  },
  "language_info": {
   "codemirror_mode": {
    "name": "ipython",
    "version": 3
   },
   "file_extension": ".py",
   "mimetype": "text/x-python",
   "name": "python",
   "nbconvert_exporter": "python",
   "pygments_lexer": "ipython3",
   "version": "3.11.5"
  }
 },
 "nbformat": 4,
 "nbformat_minor": 1
}
